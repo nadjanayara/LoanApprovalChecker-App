{
 "cells": [
  {
   "cell_type": "markdown",
   "id": "42702e75-ff51-4649-a2d1-7159f8c2d61c",
   "metadata": {},
   "source": [
    "# UTS Model Deployment 1A"
   ]
  },
  {
   "cell_type": "markdown",
   "id": "c602c3ae-efc3-4d34-a900-fce4cee3672a",
   "metadata": {},
   "source": [
    "## Nadja Nayara Krisna - 2702320425"
   ]
  },
  {
   "cell_type": "code",
   "execution_count": 1,
   "id": "2e7006e8-c09f-48db-a77c-cdb3e5a1e4a2",
   "metadata": {},
   "outputs": [],
   "source": [
    "import pandas as pd\n",
    "import numpy as np\n",
    "import pickle as pkl\n",
    "import matplotlib.pyplot as plt\n",
    "from sklearn.model_selection import train_test_split\n",
    "import seaborn as sns\n",
    "from sklearn.impute import SimpleImputer\n",
    "from sklearn.preprocessing import LabelEncoder\n",
    "from sklearn.ensemble import RandomForestClassifier\n",
    "import xgboost as xgb\n",
    "from sklearn.metrics import accuracy_score, f1_score\n",
    "from sklearn.metrics import classification_report\n",
    "from sklearn.ensemble import RandomForestClassifier\n",
    "from sklearn.model_selection import GridSearchCV, RandomizedSearchCV\n",
    "from scipy.stats import randint, uniform"
   ]
  },
  {
   "cell_type": "markdown",
   "id": "563ec220-759c-4add-ba23-1e8fa2cd0a77",
   "metadata": {},
   "source": [
    "## Data Overview"
   ]
  },
  {
   "cell_type": "code",
   "execution_count": 2,
   "id": "3b643fbf-8072-4392-86db-78d98d0c8e4c",
   "metadata": {},
   "outputs": [],
   "source": [
    "df=pd.read_csv('Dataset_A_loan.csv',delimiter=',')"
   ]
  },
  {
   "cell_type": "code",
   "execution_count": 3,
   "id": "e37b1045-436f-4c86-98ba-8281ae46f2f1",
   "metadata": {
    "scrolled": true
   },
   "outputs": [
    {
     "data": {
      "text/html": [
       "<div>\n",
       "<style scoped>\n",
       "    .dataframe tbody tr th:only-of-type {\n",
       "        vertical-align: middle;\n",
       "    }\n",
       "\n",
       "    .dataframe tbody tr th {\n",
       "        vertical-align: top;\n",
       "    }\n",
       "\n",
       "    .dataframe thead th {\n",
       "        text-align: right;\n",
       "    }\n",
       "</style>\n",
       "<table border=\"1\" class=\"dataframe\">\n",
       "  <thead>\n",
       "    <tr style=\"text-align: right;\">\n",
       "      <th></th>\n",
       "      <th>person_age</th>\n",
       "      <th>person_gender</th>\n",
       "      <th>person_education</th>\n",
       "      <th>person_income</th>\n",
       "      <th>person_emp_exp</th>\n",
       "      <th>person_home_ownership</th>\n",
       "      <th>loan_amnt</th>\n",
       "      <th>loan_intent</th>\n",
       "      <th>loan_int_rate</th>\n",
       "      <th>loan_percent_income</th>\n",
       "      <th>cb_person_cred_hist_length</th>\n",
       "      <th>credit_score</th>\n",
       "      <th>previous_loan_defaults_on_file</th>\n",
       "      <th>loan_status</th>\n",
       "    </tr>\n",
       "  </thead>\n",
       "  <tbody>\n",
       "    <tr>\n",
       "      <th>0</th>\n",
       "      <td>22.0</td>\n",
       "      <td>female</td>\n",
       "      <td>Master</td>\n",
       "      <td>71948.0</td>\n",
       "      <td>0</td>\n",
       "      <td>RENT</td>\n",
       "      <td>35000.0</td>\n",
       "      <td>PERSONAL</td>\n",
       "      <td>16.02</td>\n",
       "      <td>0.49</td>\n",
       "      <td>3.0</td>\n",
       "      <td>561</td>\n",
       "      <td>No</td>\n",
       "      <td>1</td>\n",
       "    </tr>\n",
       "    <tr>\n",
       "      <th>1</th>\n",
       "      <td>21.0</td>\n",
       "      <td>female</td>\n",
       "      <td>High School</td>\n",
       "      <td>12282.0</td>\n",
       "      <td>0</td>\n",
       "      <td>OWN</td>\n",
       "      <td>1000.0</td>\n",
       "      <td>EDUCATION</td>\n",
       "      <td>11.14</td>\n",
       "      <td>0.08</td>\n",
       "      <td>2.0</td>\n",
       "      <td>504</td>\n",
       "      <td>Yes</td>\n",
       "      <td>0</td>\n",
       "    </tr>\n",
       "    <tr>\n",
       "      <th>2</th>\n",
       "      <td>25.0</td>\n",
       "      <td>female</td>\n",
       "      <td>High School</td>\n",
       "      <td>12438.0</td>\n",
       "      <td>3</td>\n",
       "      <td>MORTGAGE</td>\n",
       "      <td>5500.0</td>\n",
       "      <td>MEDICAL</td>\n",
       "      <td>12.87</td>\n",
       "      <td>0.44</td>\n",
       "      <td>3.0</td>\n",
       "      <td>635</td>\n",
       "      <td>No</td>\n",
       "      <td>1</td>\n",
       "    </tr>\n",
       "    <tr>\n",
       "      <th>3</th>\n",
       "      <td>23.0</td>\n",
       "      <td>female</td>\n",
       "      <td>Bachelor</td>\n",
       "      <td>79753.0</td>\n",
       "      <td>0</td>\n",
       "      <td>RENT</td>\n",
       "      <td>35000.0</td>\n",
       "      <td>MEDICAL</td>\n",
       "      <td>15.23</td>\n",
       "      <td>0.44</td>\n",
       "      <td>2.0</td>\n",
       "      <td>675</td>\n",
       "      <td>No</td>\n",
       "      <td>1</td>\n",
       "    </tr>\n",
       "    <tr>\n",
       "      <th>4</th>\n",
       "      <td>24.0</td>\n",
       "      <td>male</td>\n",
       "      <td>Master</td>\n",
       "      <td>66135.0</td>\n",
       "      <td>1</td>\n",
       "      <td>RENT</td>\n",
       "      <td>35000.0</td>\n",
       "      <td>MEDICAL</td>\n",
       "      <td>14.27</td>\n",
       "      <td>0.53</td>\n",
       "      <td>4.0</td>\n",
       "      <td>586</td>\n",
       "      <td>No</td>\n",
       "      <td>1</td>\n",
       "    </tr>\n",
       "  </tbody>\n",
       "</table>\n",
       "</div>"
      ],
      "text/plain": [
       "   person_age person_gender person_education  person_income  person_emp_exp  \\\n",
       "0        22.0        female           Master        71948.0               0   \n",
       "1        21.0        female      High School        12282.0               0   \n",
       "2        25.0        female      High School        12438.0               3   \n",
       "3        23.0        female         Bachelor        79753.0               0   \n",
       "4        24.0          male           Master        66135.0               1   \n",
       "\n",
       "  person_home_ownership  loan_amnt loan_intent  loan_int_rate  \\\n",
       "0                  RENT    35000.0    PERSONAL          16.02   \n",
       "1                   OWN     1000.0   EDUCATION          11.14   \n",
       "2              MORTGAGE     5500.0     MEDICAL          12.87   \n",
       "3                  RENT    35000.0     MEDICAL          15.23   \n",
       "4                  RENT    35000.0     MEDICAL          14.27   \n",
       "\n",
       "   loan_percent_income  cb_person_cred_hist_length  credit_score  \\\n",
       "0                 0.49                         3.0           561   \n",
       "1                 0.08                         2.0           504   \n",
       "2                 0.44                         3.0           635   \n",
       "3                 0.44                         2.0           675   \n",
       "4                 0.53                         4.0           586   \n",
       "\n",
       "  previous_loan_defaults_on_file  loan_status  \n",
       "0                             No            1  \n",
       "1                            Yes            0  \n",
       "2                             No            1  \n",
       "3                             No            1  \n",
       "4                             No            1  "
      ]
     },
     "execution_count": 3,
     "metadata": {},
     "output_type": "execute_result"
    }
   ],
   "source": [
    "df.head()"
   ]
  },
  {
   "cell_type": "code",
   "execution_count": 4,
   "id": "715e67a7-8de9-45e5-b958-7140dbc065da",
   "metadata": {},
   "outputs": [
    {
     "data": {
      "text/plain": [
       "Index(['person_age', 'person_gender', 'person_education', 'person_income',\n",
       "       'person_emp_exp', 'person_home_ownership', 'loan_amnt', 'loan_intent',\n",
       "       'loan_int_rate', 'loan_percent_income', 'cb_person_cred_hist_length',\n",
       "       'credit_score', 'previous_loan_defaults_on_file', 'loan_status'],\n",
       "      dtype='object')"
      ]
     },
     "execution_count": 4,
     "metadata": {},
     "output_type": "execute_result"
    }
   ],
   "source": [
    "df.columns"
   ]
  },
  {
   "cell_type": "markdown",
   "id": "f2a967db-49c5-4718-b862-538d28a4e608",
   "metadata": {},
   "source": [
    "### Look for missing values"
   ]
  },
  {
   "cell_type": "code",
   "execution_count": 5,
   "id": "39615a37-0a34-4a17-81af-a10d466322bc",
   "metadata": {},
   "outputs": [
    {
     "name": "stdout",
     "output_type": "stream",
     "text": [
      "<class 'pandas.core.frame.DataFrame'>\n",
      "RangeIndex: 45000 entries, 0 to 44999\n",
      "Data columns (total 14 columns):\n",
      " #   Column                          Non-Null Count  Dtype  \n",
      "---  ------                          --------------  -----  \n",
      " 0   person_age                      45000 non-null  float64\n",
      " 1   person_gender                   45000 non-null  object \n",
      " 2   person_education                45000 non-null  object \n",
      " 3   person_income                   42750 non-null  float64\n",
      " 4   person_emp_exp                  45000 non-null  int64  \n",
      " 5   person_home_ownership           45000 non-null  object \n",
      " 6   loan_amnt                       45000 non-null  float64\n",
      " 7   loan_intent                     45000 non-null  object \n",
      " 8   loan_int_rate                   45000 non-null  float64\n",
      " 9   loan_percent_income             45000 non-null  float64\n",
      " 10  cb_person_cred_hist_length      45000 non-null  float64\n",
      " 11  credit_score                    45000 non-null  int64  \n",
      " 12  previous_loan_defaults_on_file  45000 non-null  object \n",
      " 13  loan_status                     45000 non-null  int64  \n",
      "dtypes: float64(6), int64(3), object(5)\n",
      "memory usage: 4.8+ MB\n"
     ]
    }
   ],
   "source": [
    "df.info()"
   ]
  },
  {
   "cell_type": "markdown",
   "id": "30655d9f-9224-4462-b143-97320c906166",
   "metadata": {},
   "source": [
    "From looking at df.info() output, we know that the 'person_income ' Column has NaN values because out of 45000 entries, only 42750 are counted as Non-Null."
   ]
  },
  {
   "cell_type": "markdown",
   "id": "2e6a6ed2-33a3-4c35-8cb5-d7a2d0e2a288",
   "metadata": {},
   "source": [
    "### Look for unstardardized values"
   ]
  },
  {
   "cell_type": "markdown",
   "id": "5645e669-add7-4faf-b41c-2ecaa9f02878",
   "metadata": {},
   "source": [
    "We are going to look at the value counts of each column. This is to overview if there are any unstandardized values or anomalies."
   ]
  },
  {
   "cell_type": "code",
   "execution_count": 6,
   "id": "92479e7f-eae4-41c1-9015-6f3a5f455308",
   "metadata": {
    "scrolled": true
   },
   "outputs": [
    {
     "name": "stdout",
     "output_type": "stream",
     "text": [
      "person_age\n",
      "23.0     5254\n",
      "24.0     5138\n",
      "25.0     4507\n",
      "22.0     4236\n",
      "26.0     3659\n",
      "27.0     3095\n",
      "28.0     2728\n",
      "29.0     2455\n",
      "30.0     2021\n",
      "31.0     1645\n",
      "32.0     1403\n",
      "21.0     1289\n",
      "33.0     1240\n",
      "34.0      980\n",
      "35.0      847\n",
      "36.0      740\n",
      "37.0      666\n",
      "38.0      503\n",
      "39.0      389\n",
      "40.0      349\n",
      "41.0      303\n",
      "42.0      247\n",
      "43.0      215\n",
      "44.0      177\n",
      "45.0      135\n",
      "46.0      114\n",
      "47.0      112\n",
      "48.0       93\n",
      "49.0       59\n",
      "50.0       56\n",
      "51.0       46\n",
      "52.0       42\n",
      "53.0       35\n",
      "54.0       24\n",
      "55.0       24\n",
      "58.0       20\n",
      "56.0       20\n",
      "57.0       17\n",
      "20.0       17\n",
      "60.0       16\n",
      "61.0       12\n",
      "66.0       11\n",
      "65.0       10\n",
      "70.0        7\n",
      "64.0        7\n",
      "62.0        7\n",
      "59.0        6\n",
      "69.0        5\n",
      "144.0       3\n",
      "73.0        3\n",
      "63.0        3\n",
      "123.0       2\n",
      "78.0        1\n",
      "94.0        1\n",
      "80.0        1\n",
      "84.0        1\n",
      "76.0        1\n",
      "67.0        1\n",
      "116.0       1\n",
      "109.0       1\n",
      "Name: count, dtype: int64\n",
      "------------------------------\n",
      "person_gender\n",
      "male       24799\n",
      "female     20111\n",
      "Male          45\n",
      "fe male       45\n",
      "Name: count, dtype: int64\n",
      "------------------------------\n",
      "person_education\n",
      "Bachelor       13399\n",
      "Associate      12028\n",
      "High School    11972\n",
      "Master          6980\n",
      "Doctorate        621\n",
      "Name: count, dtype: int64\n",
      "------------------------------\n",
      "person_income\n",
      "8000.0     15\n",
      "73011.0    10\n",
      "37020.0     8\n",
      "60914.0     8\n",
      "36995.0     8\n",
      "           ..\n",
      "10715.0     1\n",
      "10956.0     1\n",
      "11250.0     1\n",
      "11251.0     1\n",
      "33164.0     1\n",
      "Name: count, Length: 32637, dtype: int64\n",
      "------------------------------\n",
      "person_emp_exp\n",
      "0      9566\n",
      "2      4134\n",
      "1      4061\n",
      "3      3890\n",
      "4      3524\n",
      "       ... \n",
      "101       1\n",
      "124       1\n",
      "125       1\n",
      "121       1\n",
      "85        1\n",
      "Name: count, Length: 63, dtype: int64\n",
      "------------------------------\n",
      "person_home_ownership\n",
      "RENT        23443\n",
      "MORTGAGE    18489\n",
      "OWN          2951\n",
      "OTHER         117\n",
      "Name: count, dtype: int64\n",
      "------------------------------\n",
      "loan_amnt\n",
      "10000.0    3617\n",
      "5000.0     2787\n",
      "6000.0     2426\n",
      "12000.0    2416\n",
      "15000.0    2004\n",
      "           ... \n",
      "9135.0        1\n",
      "8389.0        1\n",
      "7583.0        1\n",
      "13069.0       1\n",
      "6665.0        1\n",
      "Name: count, Length: 4483, dtype: int64\n",
      "------------------------------\n",
      "loan_intent\n",
      "EDUCATION            9153\n",
      "MEDICAL              8548\n",
      "VENTURE              7819\n",
      "PERSONAL             7552\n",
      "DEBTCONSOLIDATION    7145\n",
      "HOMEIMPROVEMENT      4783\n",
      "Name: count, dtype: int64\n",
      "------------------------------\n",
      "loan_int_rate\n",
      "11.01    3329\n",
      "10.99     804\n",
      "7.51      798\n",
      "7.49      687\n",
      "7.88      673\n",
      "         ... \n",
      "16.20       1\n",
      "18.44       1\n",
      "19.39       1\n",
      "18.68       1\n",
      "16.92       1\n",
      "Name: count, Length: 1302, dtype: int64\n",
      "------------------------------\n",
      "loan_percent_income\n",
      "0.08    2593\n",
      "0.10    2421\n",
      "0.07    2415\n",
      "0.09    2295\n",
      "0.06    2242\n",
      "        ... \n",
      "0.57       1\n",
      "0.66       1\n",
      "0.58       1\n",
      "0.63       1\n",
      "0.59       1\n",
      "Name: count, Length: 64, dtype: int64\n",
      "------------------------------\n",
      "cb_person_cred_hist_length\n",
      "4.0     8653\n",
      "3.0     8312\n",
      "2.0     6537\n",
      "5.0     3082\n",
      "6.0     2966\n",
      "7.0     2889\n",
      "8.0     2800\n",
      "9.0     2685\n",
      "10.0    2457\n",
      "12.0     715\n",
      "11.0     712\n",
      "14.0     644\n",
      "13.0     625\n",
      "15.0     557\n",
      "16.0     542\n",
      "17.0     469\n",
      "20.0      43\n",
      "24.0      34\n",
      "18.0      34\n",
      "22.0      32\n",
      "28.0      29\n",
      "19.0      29\n",
      "23.0      26\n",
      "21.0      24\n",
      "25.0      23\n",
      "27.0      23\n",
      "30.0      23\n",
      "26.0      20\n",
      "29.0      15\n",
      "Name: count, dtype: int64\n",
      "------------------------------\n",
      "credit_score\n",
      "658    406\n",
      "649    398\n",
      "652    396\n",
      "663    394\n",
      "647    393\n",
      "      ... \n",
      "805      1\n",
      "421      1\n",
      "807      1\n",
      "789      1\n",
      "767      1\n",
      "Name: count, Length: 340, dtype: int64\n",
      "------------------------------\n",
      "previous_loan_defaults_on_file\n",
      "Yes    22858\n",
      "No     22142\n",
      "Name: count, dtype: int64\n",
      "------------------------------\n",
      "loan_status\n",
      "0    35000\n",
      "1    10000\n",
      "Name: count, dtype: int64\n",
      "------------------------------\n"
     ]
    }
   ],
   "source": [
    "for column in df:\n",
    "    print(df[column].value_counts())\n",
    "    print(\"-\" * 30)"
   ]
  },
  {
   "cell_type": "markdown",
   "id": "4cc9cd88-2dc9-4d92-a783-1e21e0c84ff9",
   "metadata": {},
   "source": [
    "It turns out there is unstandardized values in person_gender column, where there is 'fe male' and 'Male', instead of 'female' and 'male'."
   ]
  },
  {
   "cell_type": "markdown",
   "id": "a50a9e29-9c13-4a99-9b18-194c832a7a4e",
   "metadata": {},
   "source": [
    "### Boxplot for outliers"
   ]
  },
  {
   "cell_type": "markdown",
   "id": "53cb7062-e09d-4cff-a92d-d10feeb3259a",
   "metadata": {},
   "source": [
    "We will generate boxplots for all numerical columns to visualize the data distribution and determine the appropriate next steps in the preprocessing phase, such as encoding and imputing."
   ]
  },
  {
   "cell_type": "code",
   "execution_count": 7,
   "id": "778f43a1-addd-4723-9c1d-dcb78cb81127",
   "metadata": {},
   "outputs": [
    {
     "data": {
      "image/png": "[encoded data removed]",
      "text/plain": [
       "<Figure size 640x480 with 1 Axes>"
      ]
     },
     "metadata": {},
     "output_type": "display_data"
    }
   ],
   "source": [
    "boxplot = df.boxplot(column=['person_income'])\n",
    "plt.xticks(rotation=45)\n",
    "plt.show()"
   ]
  },
  {
   "cell_type": "code",
   "execution_count": 8,
   "id": "7b1f304f-d531-4bf1-ba7e-17a0e20b6dfa",
   "metadata": {},
   "outputs": [
    {
     "data": {
      "image/png": "[encoded data removed]",
      "text/plain": [
       "<Figure size 640x480 with 1 Axes>"
      ]
     },
     "metadata": {},
     "output_type": "display_data"
    }
   ],
   "source": [
    "boxplot = df.boxplot(column=['person_age', 'person_emp_exp', 'cb_person_cred_hist_length'])\n",
    "plt.xticks(rotation=45)\n",
    "plt.show()"
   ]
  },
  {
   "cell_type": "code",
   "execution_count": 9,
   "id": "9bf3723d-9dad-4a42-9370-d347fb3ea4b3",
   "metadata": {
    "scrolled": true
   },
   "outputs": [
    {
     "data": {
      "image/png": "[encoded data removed]",
      "text/plain": [
       "<Figure size 640x480 with 1 Axes>"
      ]
     },
     "metadata": {},
     "output_type": "display_data"
    }
   ],
   "source": [
    "boxplot = df.boxplot(column=['loan_int_rate',\n",
    "       'loan_percent_income', 'cb_person_cred_hist_length'])\n",
    "plt.xticks(rotation=45)\n",
    "plt.show()"
   ]
  },
  {
   "cell_type": "code",
   "execution_count": 10,
   "id": "f814afe0-e36d-408f-a1ef-071a51ed8354",
   "metadata": {},
   "outputs": [
    {
     "data": {
      "image/png": "[encoded data removed]",
      "text/plain": [
       "<Figure size 640x480 with 1 Axes>"
      ]
     },
     "metadata": {},
     "output_type": "display_data"
    }
   ],
   "source": [
    "boxplot = df.boxplot(column=['credit_score'])\n",
    "plt.xticks(rotation=45)\n",
    "plt.show()"
   ]
  },
  {
   "cell_type": "markdown",
   "id": "456dd395-d0bc-4870-b610-c0d4171eb81f",
   "metadata": {},
   "source": [
    "The boxplots shows that many of the numerical columns contain numerous outliers. However, since we are using Random Forest and XGBoost as our modeling algorithms, these outliers are not a major concern. This is because both Random Forest and XGBoost are tree-based models that split data at specific values (e.g., \"Is income > 50K?\") rather than being affected by how far a value is from the mean or median. They don't assume a normal distribution and don't use equations that are sensitive to large numerical deviations.As a result, they are robust to outliers, as extreme values do not significantly influence the decision boundaries of the trees."
   ]
  },
  {
   "cell_type": "markdown",
   "id": "24f3ce2d-089f-47c4-85c2-f55530156405",
   "metadata": {},
   "source": [
    "## Data Splitting"
   ]
  },
  {
   "cell_type": "markdown",
   "id": "37cf3358-ffa1-4782-b1ca-c825b87ee8c8",
   "metadata": {},
   "source": [
    "Before handling the anomalies identified during the data overview, we must first split the dataset into training and testing sets to prevent data leakage. Data leakage can happen when information from outside the training dataset is unintentionally used to create the model. This undermines the model's ability to generalize, because it has indirectly \"seen\" the test data, leading to overly optimistic performance metrics and poor generalization to new, unseen data."
   ]
  },
  {
   "cell_type": "markdown",
   "id": "ba080211-fe28-4f86-a26c-f8ee6da00cbb",
   "metadata": {},
   "source": [
    "Because loan_status is the target variable, we will drop the column from x."
   ]
  },
  {
   "cell_type": "code",
   "execution_count": 12,
   "id": "4378fe48-9646-47bd-ac61-ece2becf02b0",
   "metadata": {},
   "outputs": [],
   "source": [
    "x = df.drop(columns=['loan_status'])\n",
    "y = df['loan_status']"
   ]
  },
  {
   "cell_type": "code",
   "execution_count": 13,
   "id": "15bdaeaf-8d46-4c94-9ac6-6daa41c0630b",
   "metadata": {},
   "outputs": [],
   "source": [
    "x_train, x_test, y_train, y_test = train_test_split(x, y, test_size=0.2, random_state=42)"
   ]
  },
  {
   "cell_type": "code",
   "execution_count": 14,
   "id": "b8f23e4d-c795-4881-adb1-b741ec19dd47",
   "metadata": {},
   "outputs": [
    {
     "data": {
      "text/html": [
       "<div>\n",
       "<style scoped>\n",
       "    .dataframe tbody tr th:only-of-type {\n",
       "        vertical-align: middle;\n",
       "    }\n",
       "\n",
       "    .dataframe tbody tr th {\n",
       "        vertical-align: top;\n",
       "    }\n",
       "\n",
       "    .dataframe thead th {\n",
       "        text-align: right;\n",
       "    }\n",
       "</style>\n",
       "<table border=\"1\" class=\"dataframe\">\n",
       "  <thead>\n",
       "    <tr style=\"text-align: right;\">\n",
       "      <th></th>\n",
       "      <th>person_age</th>\n",
       "      <th>person_gender</th>\n",
       "      <th>person_education</th>\n",
       "      <th>person_income</th>\n",
       "      <th>person_emp_exp</th>\n",
       "      <th>person_home_ownership</th>\n",
       "      <th>loan_amnt</th>\n",
       "      <th>loan_intent</th>\n",
       "      <th>loan_int_rate</th>\n",
       "      <th>loan_percent_income</th>\n",
       "      <th>cb_person_cred_hist_length</th>\n",
       "      <th>credit_score</th>\n",
       "      <th>previous_loan_defaults_on_file</th>\n",
       "    </tr>\n",
       "  </thead>\n",
       "  <tbody>\n",
       "    <tr>\n",
       "      <th>25180</th>\n",
       "      <td>34.0</td>\n",
       "      <td>female</td>\n",
       "      <td>Bachelor</td>\n",
       "      <td>97265.0</td>\n",
       "      <td>11</td>\n",
       "      <td>MORTGAGE</td>\n",
       "      <td>15000.0</td>\n",
       "      <td>PERSONAL</td>\n",
       "      <td>12.73</td>\n",
       "      <td>0.15</td>\n",
       "      <td>9.0</td>\n",
       "      <td>631</td>\n",
       "      <td>No</td>\n",
       "    </tr>\n",
       "    <tr>\n",
       "      <th>12555</th>\n",
       "      <td>25.0</td>\n",
       "      <td>male</td>\n",
       "      <td>High School</td>\n",
       "      <td>NaN</td>\n",
       "      <td>3</td>\n",
       "      <td>RENT</td>\n",
       "      <td>12000.0</td>\n",
       "      <td>VENTURE</td>\n",
       "      <td>11.86</td>\n",
       "      <td>0.16</td>\n",
       "      <td>4.0</td>\n",
       "      <td>659</td>\n",
       "      <td>Yes</td>\n",
       "    </tr>\n",
       "    <tr>\n",
       "      <th>29153</th>\n",
       "      <td>41.0</td>\n",
       "      <td>female</td>\n",
       "      <td>Master</td>\n",
       "      <td>322597.0</td>\n",
       "      <td>18</td>\n",
       "      <td>MORTGAGE</td>\n",
       "      <td>24000.0</td>\n",
       "      <td>PERSONAL</td>\n",
       "      <td>10.37</td>\n",
       "      <td>0.07</td>\n",
       "      <td>11.0</td>\n",
       "      <td>683</td>\n",
       "      <td>Yes</td>\n",
       "    </tr>\n",
       "    <tr>\n",
       "      <th>23838</th>\n",
       "      <td>27.0</td>\n",
       "      <td>male</td>\n",
       "      <td>Associate</td>\n",
       "      <td>94232.0</td>\n",
       "      <td>4</td>\n",
       "      <td>RENT</td>\n",
       "      <td>9600.0</td>\n",
       "      <td>EDUCATION</td>\n",
       "      <td>17.14</td>\n",
       "      <td>0.10</td>\n",
       "      <td>7.0</td>\n",
       "      <td>641</td>\n",
       "      <td>No</td>\n",
       "    </tr>\n",
       "    <tr>\n",
       "      <th>35686</th>\n",
       "      <td>27.0</td>\n",
       "      <td>male</td>\n",
       "      <td>Master</td>\n",
       "      <td>NaN</td>\n",
       "      <td>7</td>\n",
       "      <td>RENT</td>\n",
       "      <td>7059.0</td>\n",
       "      <td>HOMEIMPROVEMENT</td>\n",
       "      <td>12.97</td>\n",
       "      <td>0.08</td>\n",
       "      <td>3.0</td>\n",
       "      <td>706</td>\n",
       "      <td>Yes</td>\n",
       "    </tr>\n",
       "  </tbody>\n",
       "</table>\n",
       "</div>"
      ],
      "text/plain": [
       "       person_age person_gender person_education  person_income  \\\n",
       "25180        34.0        female         Bachelor        97265.0   \n",
       "12555        25.0          male      High School            NaN   \n",
       "29153        41.0        female           Master       322597.0   \n",
       "23838        27.0          male        Associate        94232.0   \n",
       "35686        27.0          male           Master            NaN   \n",
       "\n",
       "       person_emp_exp person_home_ownership  loan_amnt      loan_intent  \\\n",
       "25180              11              MORTGAGE    15000.0         PERSONAL   \n",
       "12555               3                  RENT    12000.0          VENTURE   \n",
       "29153              18              MORTGAGE    24000.0         PERSONAL   \n",
       "23838               4                  RENT     9600.0        EDUCATION   \n",
       "35686               7                  RENT     7059.0  HOMEIMPROVEMENT   \n",
       "\n",
       "       loan_int_rate  loan_percent_income  cb_person_cred_hist_length  \\\n",
       "25180          12.73                 0.15                         9.0   \n",
       "12555          11.86                 0.16                         4.0   \n",
       "29153          10.37                 0.07                        11.0   \n",
       "23838          17.14                 0.10                         7.0   \n",
       "35686          12.97                 0.08                         3.0   \n",
       "\n",
       "       credit_score previous_loan_defaults_on_file  \n",
       "25180           631                             No  \n",
       "12555           659                            Yes  \n",
       "29153           683                            Yes  \n",
       "23838           641                             No  \n",
       "35686           706                            Yes  "
      ]
     },
     "execution_count": 14,
     "metadata": {},
     "output_type": "execute_result"
    }
   ],
   "source": [
    "x_train.head()"
   ]
  },
  {
   "cell_type": "markdown",
   "id": "28e06f6a-1747-4d39-80b7-0b3037fb0f09",
   "metadata": {},
   "source": [
    "## Findings from data overview"
   ]
  },
  {
   "cell_type": "markdown",
   "id": "825847bd-a559-4113-9614-127752e2cd1e",
   "metadata": {},
   "source": [
    "#### person_gender\n",
    "\n",
    "The column contains unstandardized values such as \"fe male\" and \"Male\", causing inconsistencies in the data. Since the majority of entries are correctly labeled as \"female\" and \"male\", we will standardize the inconsistent values to match the correct format. This ensures data uniformity, which is essential for accurate encoding and model interpretation."
   ]
  },
  {
   "cell_type": "code",
   "execution_count": 15,
   "id": "3939dd25-8229-491d-97d0-e6877695dd85",
   "metadata": {},
   "outputs": [],
   "source": [
    "x_train['person_gender'] = x_train['person_gender'].replace('fe male', 'female')\n",
    "x_train['person_gender'] = x_train['person_gender'].replace('Male', 'male')\n",
    "x_test['person_gender'] = x_test['person_gender'].replace('fe male', 'female')\n",
    "x_test['person_gender'] = x_test['person_gender'].replace('Male', 'male')"
   ]
  },
  {
   "cell_type": "code",
   "execution_count": 16,
   "id": "93529ce9-ea4a-4168-941d-30e8121dead8",
   "metadata": {},
   "outputs": [
    {
     "data": {
      "text/plain": [
       "person_gender\n",
       "male      19817\n",
       "female    16183\n",
       "Name: count, dtype: int64"
      ]
     },
     "execution_count": 16,
     "metadata": {},
     "output_type": "execute_result"
    }
   ],
   "source": [
    "x_train['person_gender'].value_counts()"
   ]
  },
  {
   "cell_type": "code",
   "execution_count": 17,
   "id": "e7056853-030b-4d05-90d4-f4473ea293d5",
   "metadata": {},
   "outputs": [
    {
     "data": {
      "text/plain": [
       "person_gender\n",
       "male      5027\n",
       "female    3973\n",
       "Name: count, dtype: int64"
      ]
     },
     "execution_count": 17,
     "metadata": {},
     "output_type": "execute_result"
    }
   ],
   "source": [
    "x_test['person_gender'].value_counts()"
   ]
  },
  {
   "cell_type": "markdown",
   "id": "d127344e-6cac-4bff-98cb-d3c6279791a1",
   "metadata": {},
   "source": [
    "#### person_age and person_emp_exp\n",
    "\n",
    "From the boxplot and data types, we can see that there are age values above 100. We are going to inspect these entries more closely before deciding on the appropriate action."
   ]
  },
  {
   "cell_type": "code",
   "execution_count": 18,
   "id": "74d8622a-e8e2-4501-9858-73bcb5af4dcb",
   "metadata": {},
   "outputs": [
    {
     "data": {
      "text/html": [
       "<div>\n",
       "<style scoped>\n",
       "    .dataframe tbody tr th:only-of-type {\n",
       "        vertical-align: middle;\n",
       "    }\n",
       "\n",
       "    .dataframe tbody tr th {\n",
       "        vertical-align: top;\n",
       "    }\n",
       "\n",
       "    .dataframe thead th {\n",
       "        text-align: right;\n",
       "    }\n",
       "</style>\n",
       "<table border=\"1\" class=\"dataframe\">\n",
       "  <thead>\n",
       "    <tr style=\"text-align: right;\">\n",
       "      <th></th>\n",
       "      <th>person_age</th>\n",
       "      <th>person_gender</th>\n",
       "      <th>person_education</th>\n",
       "      <th>person_income</th>\n",
       "      <th>person_emp_exp</th>\n",
       "      <th>person_home_ownership</th>\n",
       "      <th>loan_amnt</th>\n",
       "      <th>loan_intent</th>\n",
       "      <th>loan_int_rate</th>\n",
       "      <th>loan_percent_income</th>\n",
       "      <th>cb_person_cred_hist_length</th>\n",
       "      <th>credit_score</th>\n",
       "      <th>previous_loan_defaults_on_file</th>\n",
       "    </tr>\n",
       "  </thead>\n",
       "  <tbody>\n",
       "    <tr>\n",
       "      <th>81</th>\n",
       "      <td>144.0</td>\n",
       "      <td>male</td>\n",
       "      <td>Bachelor</td>\n",
       "      <td>300616.0</td>\n",
       "      <td>125</td>\n",
       "      <td>RENT</td>\n",
       "      <td>4800.0</td>\n",
       "      <td>VENTURE</td>\n",
       "      <td>13.57</td>\n",
       "      <td>0.02</td>\n",
       "      <td>3.0</td>\n",
       "      <td>789</td>\n",
       "      <td>No</td>\n",
       "    </tr>\n",
       "    <tr>\n",
       "      <th>575</th>\n",
       "      <td>123.0</td>\n",
       "      <td>female</td>\n",
       "      <td>High School</td>\n",
       "      <td>97140.0</td>\n",
       "      <td>101</td>\n",
       "      <td>RENT</td>\n",
       "      <td>20400.0</td>\n",
       "      <td>EDUCATION</td>\n",
       "      <td>10.25</td>\n",
       "      <td>0.21</td>\n",
       "      <td>3.0</td>\n",
       "      <td>805</td>\n",
       "      <td>Yes</td>\n",
       "    </tr>\n",
       "    <tr>\n",
       "      <th>38113</th>\n",
       "      <td>109.0</td>\n",
       "      <td>male</td>\n",
       "      <td>High School</td>\n",
       "      <td>5556399.0</td>\n",
       "      <td>85</td>\n",
       "      <td>MORTGAGE</td>\n",
       "      <td>6195.0</td>\n",
       "      <td>VENTURE</td>\n",
       "      <td>12.58</td>\n",
       "      <td>0.00</td>\n",
       "      <td>22.0</td>\n",
       "      <td>792</td>\n",
       "      <td>No</td>\n",
       "    </tr>\n",
       "    <tr>\n",
       "      <th>32297</th>\n",
       "      <td>144.0</td>\n",
       "      <td>female</td>\n",
       "      <td>Associate</td>\n",
       "      <td>NaN</td>\n",
       "      <td>124</td>\n",
       "      <td>MORTGAGE</td>\n",
       "      <td>5000.0</td>\n",
       "      <td>PERSONAL</td>\n",
       "      <td>12.73</td>\n",
       "      <td>0.00</td>\n",
       "      <td>25.0</td>\n",
       "      <td>850</td>\n",
       "      <td>No</td>\n",
       "    </tr>\n",
       "    <tr>\n",
       "      <th>183</th>\n",
       "      <td>144.0</td>\n",
       "      <td>male</td>\n",
       "      <td>Associate</td>\n",
       "      <td>241424.0</td>\n",
       "      <td>121</td>\n",
       "      <td>MORTGAGE</td>\n",
       "      <td>6000.0</td>\n",
       "      <td>EDUCATION</td>\n",
       "      <td>11.86</td>\n",
       "      <td>0.02</td>\n",
       "      <td>2.0</td>\n",
       "      <td>807</td>\n",
       "      <td>No</td>\n",
       "    </tr>\n",
       "    <tr>\n",
       "      <th>37930</th>\n",
       "      <td>116.0</td>\n",
       "      <td>male</td>\n",
       "      <td>Bachelor</td>\n",
       "      <td>5545545.0</td>\n",
       "      <td>93</td>\n",
       "      <td>MORTGAGE</td>\n",
       "      <td>3823.0</td>\n",
       "      <td>VENTURE</td>\n",
       "      <td>12.15</td>\n",
       "      <td>0.00</td>\n",
       "      <td>24.0</td>\n",
       "      <td>708</td>\n",
       "      <td>No</td>\n",
       "    </tr>\n",
       "  </tbody>\n",
       "</table>\n",
       "</div>"
      ],
      "text/plain": [
       "       person_age person_gender person_education  person_income  \\\n",
       "81          144.0          male         Bachelor       300616.0   \n",
       "575         123.0        female      High School        97140.0   \n",
       "38113       109.0          male      High School      5556399.0   \n",
       "32297       144.0        female        Associate            NaN   \n",
       "183         144.0          male        Associate       241424.0   \n",
       "37930       116.0          male         Bachelor      5545545.0   \n",
       "\n",
       "       person_emp_exp person_home_ownership  loan_amnt loan_intent  \\\n",
       "81                125                  RENT     4800.0     VENTURE   \n",
       "575               101                  RENT    20400.0   EDUCATION   \n",
       "38113              85              MORTGAGE     6195.0     VENTURE   \n",
       "32297             124              MORTGAGE     5000.0    PERSONAL   \n",
       "183               121              MORTGAGE     6000.0   EDUCATION   \n",
       "37930              93              MORTGAGE     3823.0     VENTURE   \n",
       "\n",
       "       loan_int_rate  loan_percent_income  cb_person_cred_hist_length  \\\n",
       "81             13.57                 0.02                         3.0   \n",
       "575            10.25                 0.21                         3.0   \n",
       "38113          12.58                 0.00                        22.0   \n",
       "32297          12.73                 0.00                        25.0   \n",
       "183            11.86                 0.02                         2.0   \n",
       "37930          12.15                 0.00                        24.0   \n",
       "\n",
       "       credit_score previous_loan_defaults_on_file  \n",
       "81              789                             No  \n",
       "575             805                            Yes  \n",
       "38113           792                             No  \n",
       "32297           850                             No  \n",
       "183             807                             No  \n",
       "37930           708                             No  "
      ]
     },
     "execution_count": 18,
     "metadata": {},
     "output_type": "execute_result"
    }
   ],
   "source": [
    "more100 = x_train[x_train['person_age'] > 100]\n",
    "more100"
   ]
  },
  {
   "cell_type": "markdown",
   "id": "acec8fda-b4f8-43f3-bbf8-9e6263531ed4",
   "metadata": {},
   "source": [
    "It turns out that there are only 6 individuals with age values greater than 100. Interestingly, these entries also have employment experience values close to or exceeding 100, which is highly unrealistic and likely the result of data entry errors.\n",
    "\n",
    "We have two options:\n",
    "1. Impute the values using the median, which is more appropriate in this case because the boxplot indicates many outliers, making the median a better measure of central tendency than the mean, as it is not heavily influenced by extreme values.\n",
    "2. Drop the entries entirely.\n",
    "\n",
    "We are going to drop rows with person_age>100. If we impute them, it might add wrong information to the dataset and cause bias in the model. Keeping them even after fixing could confuse the model during training. These rows make up less than 5% of the total data, dropping them will not significantly affect the overall dataset. "
   ]
  },
  {
   "cell_type": "code",
   "execution_count": 19,
   "id": "eabc852b-64ae-4354-957c-ab7dba63986d",
   "metadata": {},
   "outputs": [],
   "source": [
    "x_train = x_train[x_train['person_age'] <= 100]\n",
    "x_test = x_test[x_test['person_age'] <= 100]"
   ]
  },
  {
   "cell_type": "code",
   "execution_count": 20,
   "id": "9767f2d5-f7d6-4965-bfae-e3ebff98ffba",
   "metadata": {},
   "outputs": [
    {
     "data": {
      "text/html": [
       "<div>\n",
       "<style scoped>\n",
       "    .dataframe tbody tr th:only-of-type {\n",
       "        vertical-align: middle;\n",
       "    }\n",
       "\n",
       "    .dataframe tbody tr th {\n",
       "        vertical-align: top;\n",
       "    }\n",
       "\n",
       "    .dataframe thead th {\n",
       "        text-align: right;\n",
       "    }\n",
       "</style>\n",
       "<table border=\"1\" class=\"dataframe\">\n",
       "  <thead>\n",
       "    <tr style=\"text-align: right;\">\n",
       "      <th></th>\n",
       "      <th>person_age</th>\n",
       "      <th>person_gender</th>\n",
       "      <th>person_education</th>\n",
       "      <th>person_income</th>\n",
       "      <th>person_emp_exp</th>\n",
       "      <th>person_home_ownership</th>\n",
       "      <th>loan_amnt</th>\n",
       "      <th>loan_intent</th>\n",
       "      <th>loan_int_rate</th>\n",
       "      <th>loan_percent_income</th>\n",
       "      <th>cb_person_cred_hist_length</th>\n",
       "      <th>credit_score</th>\n",
       "      <th>previous_loan_defaults_on_file</th>\n",
       "    </tr>\n",
       "  </thead>\n",
       "  <tbody>\n",
       "  </tbody>\n",
       "</table>\n",
       "</div>"
      ],
      "text/plain": [
       "Empty DataFrame\n",
       "Columns: [person_age, person_gender, person_education, person_income, person_emp_exp, person_home_ownership, loan_amnt, loan_intent, loan_int_rate, loan_percent_income, cb_person_cred_hist_length, credit_score, previous_loan_defaults_on_file]\n",
       "Index: []"
      ]
     },
     "execution_count": 20,
     "metadata": {},
     "output_type": "execute_result"
    }
   ],
   "source": [
    "more100 = x_train[x_train['person_emp_exp'] > 100]\n",
    "more100"
   ]
  },
  {
   "cell_type": "code",
   "execution_count": 21,
   "id": "d5cf603b-c5f9-4297-b59d-1e1d127c77dd",
   "metadata": {},
   "outputs": [],
   "source": [
    "y_train = y_train[x_train.index]\n",
    "y_test = y_test[x_test.index]"
   ]
  },
  {
   "cell_type": "markdown",
   "id": "856d7cea-efcf-4c87-ad71-281281186186",
   "metadata": {},
   "source": [
    "Next, we will convert the data type to integer, as there are no individuals with decimal age values."
   ]
  },
  {
   "cell_type": "code",
   "execution_count": 22,
   "id": "cb12cddb-3e3f-43f6-b191-753c19ce9950",
   "metadata": {},
   "outputs": [],
   "source": [
    "x_train['person_age']=x_train['person_age'].astype(int)\n",
    "x_test['person_age']=x_test['person_age'].astype(int)"
   ]
  },
  {
   "cell_type": "markdown",
   "id": "918835c0-5aef-450c-8f13-0ba88c8ab94a",
   "metadata": {},
   "source": [
    "#### person_income\n",
    "\n",
    "There are missing values in the person_income column. According to the boxplot, person_income contains many outliers. This means it is better to use the median for imputation, as it is less sensitive to extreme values and provides a more robust central tendency compared to the mean. We will not drop it because it makes up 2250 of the data. Dropping those rows would reduce the amount of training data, which could negatively affect the model's ability to learn."
   ]
  },
  {
   "cell_type": "code",
   "execution_count": 24,
   "id": "7c3440a1-0bda-45e6-ba0b-1adae47469ea",
   "metadata": {},
   "outputs": [
    {
     "data": {
      "text/plain": [
       "67101.5"
      ]
     },
     "execution_count": 24,
     "metadata": {},
     "output_type": "execute_result"
    }
   ],
   "source": [
    "x_train['person_income'].median()"
   ]
  },
  {
   "cell_type": "code",
   "execution_count": 25,
   "id": "ab93d066-b99e-4a95-9a1d-d4963771e535",
   "metadata": {},
   "outputs": [
    {
     "name": "stdout",
     "output_type": "stream",
     "text": [
      "float64\n"
     ]
    }
   ],
   "source": [
    "print(x_train['person_income'].dtype)"
   ]
  },
  {
   "cell_type": "code",
   "execution_count": 26,
   "id": "3ee68897-4ab6-4e2e-a44f-7ff225bfec1d",
   "metadata": {},
   "outputs": [],
   "source": [
    "imputer = SimpleImputer(strategy='constant', fill_value=67101.5)\n",
    "x_train['person_income'] = imputer.fit_transform(x_train[['person_income']])\n",
    "x_test['person_income'] = imputer.transform(x_test[['person_income']])"
   ]
  },
  {
   "cell_type": "code",
   "execution_count": 27,
   "id": "012f5ef1-b885-4a32-b46f-2d01d67e1d41",
   "metadata": {},
   "outputs": [
    {
     "data": {
      "text/plain": [
       "0"
      ]
     },
     "execution_count": 27,
     "metadata": {},
     "output_type": "execute_result"
    }
   ],
   "source": [
    "x_train['person_income'].isnull().values.sum()"
   ]
  },
  {
   "cell_type": "code",
   "execution_count": 28,
   "id": "2af3db0f-1330-442a-9add-9a3a83e3a53a",
   "metadata": {},
   "outputs": [
    {
     "data": {
      "text/plain": [
       "0"
      ]
     },
     "execution_count": 28,
     "metadata": {},
     "output_type": "execute_result"
    }
   ],
   "source": [
    "x_test['person_income'].isnull().values.sum()"
   ]
  },
  {
   "cell_type": "markdown",
   "id": "69cc9ff0-c8d5-4ed1-88e2-311f081d02e1",
   "metadata": {},
   "source": [
    "## Encoding"
   ]
  },
  {
   "cell_type": "markdown",
   "id": "ed9bb53d",
   "metadata": {},
   "source": [
    "We will encode each column based on its context and specific needs. The encoding will be applied separately to each data split (training and test sets) to prevent data leakage."
   ]
  },
  {
   "cell_type": "markdown",
   "id": "b739352f",
   "metadata": {},
   "source": [
    "### Label Encoder"
   ]
  },
  {
   "cell_type": "code",
   "execution_count": 29,
   "id": "089feb22-e1c2-4e60-9f5c-b720c2341995",
   "metadata": {},
   "outputs": [],
   "source": [
    "label_encoder = LabelEncoder()"
   ]
  },
  {
   "cell_type": "markdown",
   "id": "66463281",
   "metadata": {},
   "source": [
    "#### person_gender, previous_loan_defaults_on_file\n",
    "We use Label Encoding for the person_gender and previous_loan_defaults_on_file column because it contains only two categories, which is \"male\" and \"female\" and \"Yes\" or \"No\". Label Encoding is appropriate for binary categorical variables, as it simply converts them into 0 and 1 (e.g., \"female\" = 0, \"male\" = 1), which is both memory-efficient and model-friendly."
   ]
  },
  {
   "cell_type": "code",
   "execution_count": 30,
   "id": "7c3391c0-52a8-4f27-9bb5-bfebd37a45a3",
   "metadata": {},
   "outputs": [],
   "source": [
    "x_train['person_gender'] = label_encoder.fit_transform(x_train['person_gender'])\n",
    "x_test['person_gender'] = label_encoder.transform(x_test['person_gender'])"
   ]
  },
  {
   "cell_type": "code",
   "execution_count": 34,
   "id": "8e812aaa-48d2-4534-8c4f-65b3284d203a",
   "metadata": {},
   "outputs": [],
   "source": [
    "x_train['previous_loan_defaults_on_file'] = label_encoder.fit_transform(x_train['previous_loan_defaults_on_file'])\n",
    "x_test['previous_loan_defaults_on_file'] = label_encoder.transform(x_test['previous_loan_defaults_on_file'])"
   ]
  },
  {
   "cell_type": "markdown",
   "id": "67472a9a-36ae-445c-82c2-ea85cf64dc91",
   "metadata": {},
   "source": [
    "### Ordinal Encoder"
   ]
  },
  {
   "cell_type": "markdown",
   "id": "49fd5d50",
   "metadata": {},
   "source": [
    "#### person education\n",
    "We use Ordinal Encoding for the person_education column because the education levels represent a natural order or hierarchy. For example, \"High School\" < \"Associate\" < \"Bachelor\" < \"Master\" < \"Doctorate\". This means each level implies a progression or higher qualification compared to the previous one."
   ]
  },
  {
   "cell_type": "code",
   "execution_count": 31,
   "id": "a0d14dea-9355-4200-8ad6-947817e3f86d",
   "metadata": {},
   "outputs": [],
   "source": [
    "education_order = ['High School', 'Associate', 'Bachelor', 'Master', 'Doctorate']\n",
    "\n",
    "x_train['person_education'] = pd.Categorical(x_train['person_education'], categories=education_order, ordered=True)\n",
    "x_train['person_education'] = x_train['person_education'].cat.codes\n",
    "\n",
    "x_test['person_education'] = pd.Categorical(x_test['person_education'], categories=education_order, ordered=True)\n",
    "x_test['person_education'] = x_test['person_education'].cat.codes"
   ]
  },
  {
   "cell_type": "markdown",
   "id": "52dc965e",
   "metadata": {},
   "source": [
    "## One-Hot Encoder"
   ]
  },
  {
   "cell_type": "markdown",
   "id": "44e80feb-a314-444e-9727-1dbb717ce8bf",
   "metadata": {},
   "source": [
    "#### home_ownership, loan_intent\n",
    "We use One-Hot Encoding for the person_home_ownership and loan_intent columns because they are nominal categorical variables—they represent categories without any inherent order. One-Hot Encoding is ideal in such cases because it avoids introducing false ordinal relationships and allows the model to treat each category independently."
   ]
  },
  {
   "cell_type": "code",
   "execution_count": 32,
   "id": "fbb90c0a-fe07-4b6b-b659-8c32924ec7f9",
   "metadata": {},
   "outputs": [],
   "source": [
    "x_train = pd.get_dummies(x_train, columns=['person_home_ownership'], drop_first=False)\n",
    "x_test = pd.get_dummies(x_test, columns=['person_home_ownership'], drop_first=False)"
   ]
  },
  {
   "cell_type": "code",
   "execution_count": 33,
   "id": "12fada77-56e0-4e3f-aa96-1a5b30a21386",
   "metadata": {},
   "outputs": [],
   "source": [
    "x_train = pd.get_dummies(x_train, columns=['loan_intent'], drop_first=False)\n",
    "x_test = pd.get_dummies(x_test, columns=['loan_intent'], drop_first=False)"
   ]
  },
  {
   "cell_type": "code",
   "execution_count": 35,
   "id": "9df720c2-2e38-424f-a6b8-8e2c459254ac",
   "metadata": {},
   "outputs": [
    {
     "data": {
      "text/html": [
       "<div>\n",
       "<style scoped>\n",
       "    .dataframe tbody tr th:only-of-type {\n",
       "        vertical-align: middle;\n",
       "    }\n",
       "\n",
       "    .dataframe tbody tr th {\n",
       "        vertical-align: top;\n",
       "    }\n",
       "\n",
       "    .dataframe thead th {\n",
       "        text-align: right;\n",
       "    }\n",
       "</style>\n",
       "<table border=\"1\" class=\"dataframe\">\n",
       "  <thead>\n",
       "    <tr style=\"text-align: right;\">\n",
       "      <th></th>\n",
       "      <th>person_age</th>\n",
       "      <th>person_gender</th>\n",
       "      <th>person_education</th>\n",
       "      <th>person_income</th>\n",
       "      <th>person_emp_exp</th>\n",
       "      <th>loan_amnt</th>\n",
       "      <th>loan_int_rate</th>\n",
       "      <th>loan_percent_income</th>\n",
       "      <th>cb_person_cred_hist_length</th>\n",
       "      <th>credit_score</th>\n",
       "      <th>...</th>\n",
       "      <th>person_home_ownership_MORTGAGE</th>\n",
       "      <th>person_home_ownership_OTHER</th>\n",
       "      <th>person_home_ownership_OWN</th>\n",
       "      <th>person_home_ownership_RENT</th>\n",
       "      <th>loan_intent_DEBTCONSOLIDATION</th>\n",
       "      <th>loan_intent_EDUCATION</th>\n",
       "      <th>loan_intent_HOMEIMPROVEMENT</th>\n",
       "      <th>loan_intent_MEDICAL</th>\n",
       "      <th>loan_intent_PERSONAL</th>\n",
       "      <th>loan_intent_VENTURE</th>\n",
       "    </tr>\n",
       "  </thead>\n",
       "  <tbody>\n",
       "    <tr>\n",
       "      <th>25180</th>\n",
       "      <td>34</td>\n",
       "      <td>0</td>\n",
       "      <td>2</td>\n",
       "      <td>97265.0</td>\n",
       "      <td>11</td>\n",
       "      <td>15000.0</td>\n",
       "      <td>12.73</td>\n",
       "      <td>0.15</td>\n",
       "      <td>9.0</td>\n",
       "      <td>631</td>\n",
       "      <td>...</td>\n",
       "      <td>True</td>\n",
       "      <td>False</td>\n",
       "      <td>False</td>\n",
       "      <td>False</td>\n",
       "      <td>False</td>\n",
       "      <td>False</td>\n",
       "      <td>False</td>\n",
       "      <td>False</td>\n",
       "      <td>True</td>\n",
       "      <td>False</td>\n",
       "    </tr>\n",
       "    <tr>\n",
       "      <th>12555</th>\n",
       "      <td>25</td>\n",
       "      <td>1</td>\n",
       "      <td>0</td>\n",
       "      <td>67104.0</td>\n",
       "      <td>3</td>\n",
       "      <td>12000.0</td>\n",
       "      <td>11.86</td>\n",
       "      <td>0.16</td>\n",
       "      <td>4.0</td>\n",
       "      <td>659</td>\n",
       "      <td>...</td>\n",
       "      <td>False</td>\n",
       "      <td>False</td>\n",
       "      <td>False</td>\n",
       "      <td>True</td>\n",
       "      <td>False</td>\n",
       "      <td>False</td>\n",
       "      <td>False</td>\n",
       "      <td>False</td>\n",
       "      <td>False</td>\n",
       "      <td>True</td>\n",
       "    </tr>\n",
       "    <tr>\n",
       "      <th>29153</th>\n",
       "      <td>41</td>\n",
       "      <td>0</td>\n",
       "      <td>3</td>\n",
       "      <td>322597.0</td>\n",
       "      <td>18</td>\n",
       "      <td>24000.0</td>\n",
       "      <td>10.37</td>\n",
       "      <td>0.07</td>\n",
       "      <td>11.0</td>\n",
       "      <td>683</td>\n",
       "      <td>...</td>\n",
       "      <td>True</td>\n",
       "      <td>False</td>\n",
       "      <td>False</td>\n",
       "      <td>False</td>\n",
       "      <td>False</td>\n",
       "      <td>False</td>\n",
       "      <td>False</td>\n",
       "      <td>False</td>\n",
       "      <td>True</td>\n",
       "      <td>False</td>\n",
       "    </tr>\n",
       "    <tr>\n",
       "      <th>23838</th>\n",
       "      <td>27</td>\n",
       "      <td>1</td>\n",
       "      <td>1</td>\n",
       "      <td>94232.0</td>\n",
       "      <td>4</td>\n",
       "      <td>9600.0</td>\n",
       "      <td>17.14</td>\n",
       "      <td>0.10</td>\n",
       "      <td>7.0</td>\n",
       "      <td>641</td>\n",
       "      <td>...</td>\n",
       "      <td>False</td>\n",
       "      <td>False</td>\n",
       "      <td>False</td>\n",
       "      <td>True</td>\n",
       "      <td>False</td>\n",
       "      <td>True</td>\n",
       "      <td>False</td>\n",
       "      <td>False</td>\n",
       "      <td>False</td>\n",
       "      <td>False</td>\n",
       "    </tr>\n",
       "    <tr>\n",
       "      <th>35686</th>\n",
       "      <td>27</td>\n",
       "      <td>1</td>\n",
       "      <td>3</td>\n",
       "      <td>67104.0</td>\n",
       "      <td>7</td>\n",
       "      <td>7059.0</td>\n",
       "      <td>12.97</td>\n",
       "      <td>0.08</td>\n",
       "      <td>3.0</td>\n",
       "      <td>706</td>\n",
       "      <td>...</td>\n",
       "      <td>False</td>\n",
       "      <td>False</td>\n",
       "      <td>False</td>\n",
       "      <td>True</td>\n",
       "      <td>False</td>\n",
       "      <td>False</td>\n",
       "      <td>True</td>\n",
       "      <td>False</td>\n",
       "      <td>False</td>\n",
       "      <td>False</td>\n",
       "    </tr>\n",
       "  </tbody>\n",
       "</table>\n",
       "<p>5 rows × 21 columns</p>\n",
       "</div>"
      ],
      "text/plain": [
       "       person_age  person_gender  person_education  person_income  \\\n",
       "25180          34              0                 2        97265.0   \n",
       "12555          25              1                 0        67104.0   \n",
       "29153          41              0                 3       322597.0   \n",
       "23838          27              1                 1        94232.0   \n",
       "35686          27              1                 3        67104.0   \n",
       "\n",
       "       person_emp_exp  loan_amnt  loan_int_rate  loan_percent_income  \\\n",
       "25180              11    15000.0          12.73                 0.15   \n",
       "12555               3    12000.0          11.86                 0.16   \n",
       "29153              18    24000.0          10.37                 0.07   \n",
       "23838               4     9600.0          17.14                 0.10   \n",
       "35686               7     7059.0          12.97                 0.08   \n",
       "\n",
       "       cb_person_cred_hist_length  credit_score  ...  \\\n",
       "25180                         9.0           631  ...   \n",
       "12555                         4.0           659  ...   \n",
       "29153                        11.0           683  ...   \n",
       "23838                         7.0           641  ...   \n",
       "35686                         3.0           706  ...   \n",
       "\n",
       "       person_home_ownership_MORTGAGE  person_home_ownership_OTHER  \\\n",
       "25180                            True                        False   \n",
       "12555                           False                        False   \n",
       "29153                            True                        False   \n",
       "23838                           False                        False   \n",
       "35686                           False                        False   \n",
       "\n",
       "       person_home_ownership_OWN  person_home_ownership_RENT  \\\n",
       "25180                      False                       False   \n",
       "12555                      False                        True   \n",
       "29153                      False                       False   \n",
       "23838                      False                        True   \n",
       "35686                      False                        True   \n",
       "\n",
       "       loan_intent_DEBTCONSOLIDATION  loan_intent_EDUCATION  \\\n",
       "25180                          False                  False   \n",
       "12555                          False                  False   \n",
       "29153                          False                  False   \n",
       "23838                          False                   True   \n",
       "35686                          False                  False   \n",
       "\n",
       "       loan_intent_HOMEIMPROVEMENT  loan_intent_MEDICAL  loan_intent_PERSONAL  \\\n",
       "25180                        False                False                  True   \n",
       "12555                        False                False                 False   \n",
       "29153                        False                False                  True   \n",
       "23838                        False                False                 False   \n",
       "35686                         True                False                 False   \n",
       "\n",
       "       loan_intent_VENTURE  \n",
       "25180                False  \n",
       "12555                 True  \n",
       "29153                False  \n",
       "23838                False  \n",
       "35686                False  \n",
       "\n",
       "[5 rows x 21 columns]"
      ]
     },
     "execution_count": 35,
     "metadata": {},
     "output_type": "execute_result"
    }
   ],
   "source": [
    "x_train.head()"
   ]
  },
  {
   "cell_type": "code",
   "execution_count": 36,
   "id": "305cf4f2-ea00-4138-a55f-83cc7870009c",
   "metadata": {},
   "outputs": [
    {
     "data": {
      "text/plain": [
       "Index(['person_age', 'person_gender', 'person_education', 'person_income',\n",
       "       'person_emp_exp', 'loan_amnt', 'loan_int_rate', 'loan_percent_income',\n",
       "       'cb_person_cred_hist_length', 'credit_score',\n",
       "       'previous_loan_defaults_on_file', 'person_home_ownership_MORTGAGE',\n",
       "       'person_home_ownership_OTHER', 'person_home_ownership_OWN',\n",
       "       'person_home_ownership_RENT', 'loan_intent_DEBTCONSOLIDATION',\n",
       "       'loan_intent_EDUCATION', 'loan_intent_HOMEIMPROVEMENT',\n",
       "       'loan_intent_MEDICAL', 'loan_intent_PERSONAL', 'loan_intent_VENTURE'],\n",
       "      dtype='object')"
      ]
     },
     "execution_count": 36,
     "metadata": {},
     "output_type": "execute_result"
    }
   ],
   "source": [
    "x_train.columns"
   ]
  },
  {
   "cell_type": "code",
   "execution_count": 37,
   "id": "769bdb45-67c8-4339-b0e2-0d8b0162eae1",
   "metadata": {},
   "outputs": [
    {
     "data": {
      "text/plain": [
       "Index(['person_age', 'person_gender', 'person_education', 'person_income',\n",
       "       'person_emp_exp', 'loan_amnt', 'loan_int_rate', 'loan_percent_income',\n",
       "       'cb_person_cred_hist_length', 'credit_score',\n",
       "       'previous_loan_defaults_on_file', 'person_home_ownership_MORTGAGE',\n",
       "       'person_home_ownership_OTHER', 'person_home_ownership_OWN',\n",
       "       'person_home_ownership_RENT', 'loan_intent_DEBTCONSOLIDATION',\n",
       "       'loan_intent_EDUCATION', 'loan_intent_HOMEIMPROVEMENT',\n",
       "       'loan_intent_MEDICAL', 'loan_intent_PERSONAL', 'loan_intent_VENTURE'],\n",
       "      dtype='object')"
      ]
     },
     "execution_count": 37,
     "metadata": {},
     "output_type": "execute_result"
    }
   ],
   "source": [
    "x_test.columns"
   ]
  },
  {
   "cell_type": "markdown",
   "id": "c43937cb",
   "metadata": {},
   "source": [
    "After checking, the columns are already encoded."
   ]
  },
  {
   "cell_type": "markdown",
   "id": "a22df140",
   "metadata": {},
   "source": [
    "### Why no numerical data scaling?\n",
    "This is because both Random Forest and XGBoost are tree-based models that split data  at specific values (e.g., \"Is income > 50K?\") rather than being affected by how far a value is from the mean or median. They don't assume a normal distribution and don't use equations that are sensitive to large numerical deviations.As a result, they are robust to outliers, as extreme values do not significantly influence the decision boundaries of the trees."
   ]
  },
  {
   "cell_type": "markdown",
   "id": "53d05594-3917-4590-9abf-5206f890d1db",
   "metadata": {},
   "source": [
    "## Hypertuning and Modeling"
   ]
  },
  {
   "cell_type": "markdown",
   "id": "56e7d6ce",
   "metadata": {},
   "source": [
    "Hyperparameter tuning helps us to find the best set of parameters that maximize the performance of our machine learning model. Hyperparameters play a critical role in controlling the complexity of the trees, preventing overfitting, and improving the model's ability to generalize to new data."
   ]
  },
  {
   "cell_type": "markdown",
   "id": "cf7ae668-6d7b-4912-a64b-a4b2900a7c69",
   "metadata": {},
   "source": [
    "### RandomForest"
   ]
  },
  {
   "cell_type": "markdown",
   "id": "c03106dd-cadc-4467-a01b-08b585822cb5",
   "metadata": {},
   "source": [
    "For Random Forest model, we are going to use these hyperparameters such as n_estimators, max_depth, min_samples_split, and min_samples_leaf."
   ]
  },
  {
   "cell_type": "code",
   "execution_count": 38,
   "id": "c6308884-9d99-4f0d-9ab4-47bef8e5a65c",
   "metadata": {},
   "outputs": [],
   "source": [
    "rf_model = RandomForestClassifier(random_state=42)\n",
    "\n",
    "param_grid = {\n",
    "    'n_estimators': [100, 200, 500],\n",
    "    'max_depth': [None, 10, 20],\n",
    "    'min_samples_split': [2, 5, 10],\n",
    "    'min_samples_leaf': [1, 2, 4]\n",
    "}"
   ]
  },
  {
   "cell_type": "code",
   "execution_count": 39,
   "id": "b19d6ee8-bdd7-42db-bc14-d40df1008eae",
   "metadata": {},
   "outputs": [
    {
     "name": "stdout",
     "output_type": "stream",
     "text": [
      "Fitting 5 folds for each of 81 candidates, totalling 405 fits\n",
      "Best hyperparameters: {'max_depth': None, 'min_samples_leaf': 1, 'min_samples_split': 5, 'n_estimators': 500}\n"
     ]
    }
   ],
   "source": [
    "rf_search = GridSearchCV(rf_model, param_grid, cv=5, n_jobs=-1, verbose=1)\n",
    "\n",
    "rf_search.fit(x_train, y_train)\n",
    "\n",
    "print(\"Best hyperparameters:\", rf_search.best_params_)\n",
    "\n",
    "best_rf_model = rf_search.best_estimator_"
   ]
  },
  {
   "cell_type": "markdown",
   "id": "9c1de2ba",
   "metadata": {},
   "source": [
    "After fitting the model, it was found that the best hyperparameter combination is: 'max_depth': None, 'min_samples_leaf': 1, 'min_samples_split': 5, and 'n_estimators': 500. This means that that combination give the highest performance for the model."
   ]
  },
  {
   "cell_type": "markdown",
   "id": "2d17d089-711e-4f01-95c1-4bcb67e2053d",
   "metadata": {},
   "source": [
    "### XGboost"
   ]
  },
  {
   "cell_type": "markdown",
   "id": "13867f34",
   "metadata": {},
   "source": [
    "For XGBoost model, we are going to use these hyperparameters such as n_estimators, learning_rate, max_depth."
   ]
  },
  {
   "cell_type": "code",
   "execution_count": 40,
   "id": "bb3ce929-ebd9-4235-b342-a8aadc907c3c",
   "metadata": {},
   "outputs": [],
   "source": [
    "xgb_model = xgb.XGBClassifier(random_state=42)\n",
    "\n",
    "param_grid = {\n",
    "    'n_estimators': [100, 200, 500],\n",
    "    'learning_rate': [0.01, 0.05, 0.1],\n",
    "    'max_depth': [3, 5, 10]\n",
    "}"
   ]
  },
  {
   "cell_type": "code",
   "execution_count": 41,
   "id": "14ec2b09-7a80-48d6-8e48-019e7ad0b9b3",
   "metadata": {},
   "outputs": [
    {
     "name": "stdout",
     "output_type": "stream",
     "text": [
      "Fitting 5 folds for each of 27 candidates, totalling 135 fits\n",
      "Best hyperparameters: {'learning_rate': 0.1, 'max_depth': 5, 'n_estimators': 500}\n"
     ]
    }
   ],
   "source": [
    "xgb_search = GridSearchCV(xgb_model, param_grid, cv=5, n_jobs=-1, verbose=1)\n",
    "\n",
    "xgb_search.fit(x_train, y_train)\n",
    "\n",
    "print(\"Best hyperparameters:\", xgb_search.best_params_)\n",
    "\n",
    "best_xgb_model = xgb_search.best_estimator_"
   ]
  },
  {
   "cell_type": "markdown",
   "id": "64264545",
   "metadata": {},
   "source": [
    "After fitting the model, it was found that the best hyperparameter combination is: learning_rate': 0.1, 'max_depth': 5, 'n_estimators': 500. This means that that combination five the highest performance for the model."
   ]
  },
  {
   "cell_type": "markdown",
   "id": "f5ede91e-10fe-43d3-a8d3-f1d34252401a",
   "metadata": {},
   "source": [
    "## Model Evaluation"
   ]
  },
  {
   "cell_type": "markdown",
   "id": "7853a89b",
   "metadata": {},
   "source": [
    "After finding the best hyperparameters for each model through tuning, we will proceed to make predictions on the test data. This step is important because the test set represents unseen data that was not used during training. Predicting on the test set allows us to assess how well the model generalizes to new, real-world data, rather than just performing well on the data it has already seen.\n",
    "\n",
    "In addition to making predictions, we will also perform a comprehensive model evaluation using metrics such as accuracy, precision, recall, F1-score, and AUC-ROC. This evaluation helps us understand the model’s overall performance, how well it handles imbalanced data, and whether it makes reliable predictions across different classes. Ultimately, this step confirms whether the model is ready for deployment or if further adjustments are needed."
   ]
  },
  {
   "cell_type": "markdown",
   "id": "fa9aff8d",
   "metadata": {},
   "source": [
    "### Random Forest Classification Report"
   ]
  },
  {
   "cell_type": "code",
   "execution_count": 42,
   "id": "0a39e30a-9bf9-4264-806c-fc9616559440",
   "metadata": {},
   "outputs": [
    {
     "name": "stdout",
     "output_type": "stream",
     "text": [
      "Random Forest Classification Report:\n",
      "               precision    recall  f1-score   support\n",
      "\n",
      "           0       0.94      0.98      0.96      6989\n",
      "           1       0.90      0.77      0.83      2010\n",
      "\n",
      "    accuracy                           0.93      8999\n",
      "   macro avg       0.92      0.87      0.89      8999\n",
      "weighted avg       0.93      0.93      0.93      8999\n",
      "\n"
     ]
    }
   ],
   "source": [
    "rf_preds = best_rf_model.predict(x_test)\n",
    "\n",
    "rf_class_report = classification_report(y_test, rf_preds)\n",
    "print(\"Random Forest Classification Report:\\n\", rf_class_report)"
   ]
  },
  {
   "cell_type": "markdown",
   "id": "41b65a0c",
   "metadata": {},
   "source": [
    "The Random Forest model demonstrates strong overall performance with an accuracy of 93%, indicating that it correctly classifies the majority of instances in the test dataset. \n",
    "\n",
    "#### class 0 (loan rejected)\n",
    "The model achieves excellent precision (0.94), recall (0.98), and F1-score (0.96). This means the model is highly reliable in correctly identifying applications that should be rejected, with very few false positives.\n",
    "\n",
    "#### class 1 (loan accepted)\n",
    "For class 1, which is the minority class, the model still performs well, with a precision of 0.90, suggesting it makes few false positive errors. However, the recall for class 1 is lower at 0.77, which means the model fails to recognize about 23% of applications that should have been approved, classifying them as rejections instead. This could be a concern in contexts where missing out on eligible applicants has financial or customer satisfaction implications.\n",
    "\n",
    "The macro average F1-score is 0.89, while the weighted average is 0.93, reflecting strong performance across both classes, though slightly affected by the imbalance in support (more instances of class 0 than class 1)."
   ]
  },
  {
   "cell_type": "markdown",
   "id": "3e4e67a3",
   "metadata": {},
   "source": [
    "### XGBoost Classification Report"
   ]
  },
  {
   "cell_type": "code",
   "execution_count": 43,
   "id": "c820208c-dc11-4721-9722-d2fb665777df",
   "metadata": {},
   "outputs": [
    {
     "name": "stdout",
     "output_type": "stream",
     "text": [
      "XGBoost Classification Report:\n",
      "               precision    recall  f1-score   support\n",
      "\n",
      "           0       0.95      0.97      0.96      6989\n",
      "           1       0.90      0.81      0.85      2010\n",
      "\n",
      "    accuracy                           0.94      8999\n",
      "   macro avg       0.92      0.89      0.90      8999\n",
      "weighted avg       0.94      0.94      0.94      8999\n",
      "\n"
     ]
    }
   ],
   "source": [
    "xgb_preds = best_xgb_model.predict(x_test)\n",
    "\n",
    "xgb_class_report = classification_report(y_test, xgb_preds)\n",
    "print(\"XGBoost Classification Report:\\n\", xgb_class_report)"
   ]
  },
  {
   "cell_type": "markdown",
   "id": "86ba3a02",
   "metadata": {},
   "source": [
    "The XGBoost model demonstrates strong overall performance with an accuracy of 94%, indicating that it correctly predicts the loan approval outcome in most cases.\n",
    "\n",
    "#### class 0 (loan rejected)\n",
    "The model achieves a precision of 0.94, recall of 0.95, and F1-score of 0.96, showing that it is highly reliable in identifying loan applications that should be denied.\n",
    "\n",
    "#### class 1 (loan accepted)\n",
    "The model performs well with a precision of 0.90 and a recall of 0.81, meaning it correctly identifies 81% of applicants who should be approved, with relatively few false positives.\n",
    "\n",
    "The macro average F1-score is 0.90, and the weighted average F1-score is 0.94, reflecting a well-balanced performance across both classes, even with class imbalance. "
   ]
  },
  {
   "cell_type": "markdown",
   "id": "40d4c3fa",
   "metadata": {},
   "source": [
    "## Compare RandomForest and XGBoost"
   ]
  },
  {
   "cell_type": "markdown",
   "id": "65ed8aae",
   "metadata": {},
   "source": [
    "Both the Random Forest and XGBoost models show strong performance in predicting loan approval outcomes, with overall accuracies of 93% and 94%, respectively. While both models handle the majority class (loan rejected) very well, XGBoost demonstrates a noticeable advantage in handling the minority class (loan approved). Specifically, XGBoost achieves a higher recall for approved loans (0.81) compared to Random Forest's 0.77, meaning it is more effective at identifying applicants who should receive loan approval.\n",
    "\n",
    "Although both models have the same precision (0.90) for approved loans, XGBoost's higher recall leads to a better F1-score for class 1 (0.85 vs. 0.83). Additionally, XGBoost achieves a higher macro and weighted average F1-score, indicating more balanced performance across both classes. \n",
    "\n",
    "Given that recall for approved loans is particularly important in financial applications, if the model fails to approve someone who actually deserves the loan (a false negative), the bank or lending company loses a potential customer.\n",
    "\n",
    "**XGBoost is the preferred model due to its superior ability to identify true positives in loan approvals while maintaining excellent overall accuracy.**"
   ]
  },
  {
   "cell_type": "markdown",
   "id": "60fe83f5",
   "metadata": {},
   "source": [
    "## Save models and encoder as pickle"
   ]
  },
  {
   "cell_type": "markdown",
   "id": "5ae37a12",
   "metadata": {},
   "source": [
    "As XGBoost is the most suitable model for this dataset. Therefore, we will proceed to save the trained XGBoost model into a pickle (.pkl) file for future use. Additionally, we will also save the encoders used during preprocessing to ensure consistency during inference. This step is especially important when deploying the model in a Streamlit application, as it allows for seamless and accurate transformation of new user inputs in the same way as the training data, ensuring the model receives the correct format and structure for predictions."
   ]
  },
  {
   "cell_type": "code",
   "execution_count": 44,
   "id": "1632392f-b8e0-407e-93f6-60bf3810ef53",
   "metadata": {},
   "outputs": [],
   "source": [
    "model_filename = 'best_xgbmodel.pkl'\n",
    "with open(model_filename, 'wb') as file:\n",
    "    pkl.dump(best_xgb_model, file)"
   ]
  },
  {
   "cell_type": "code",
   "execution_count": 52,
   "id": "65485a6c-f2cd-4169-95a6-aec21973b2e4",
   "metadata": {},
   "outputs": [],
   "source": [
    "with open(\"person_gender_encoder.pkl\", \"wb\") as file:\n",
    "    pkl.dump(label_encoder, file)"
   ]
  },
  {
   "cell_type": "code",
   "execution_count": 53,
   "id": "a669cf13-ab5a-4c71-a2a8-11485356941b",
   "metadata": {},
   "outputs": [],
   "source": [
    "with open(\"previous_loan_defaults_on_file_encoder.pkl\", \"wb\") as file:\n",
    "    pkl.dump(label_encoder, file)"
   ]
  }
 ],
 "metadata": {
  "kernelspec": {
   "display_name": "Python 3 (ipykernel)",
   "language": "python",
   "name": "python3"
  },
  "language_info": {
   "codemirror_mode": {
    "name": "ipython",
    "version": 3
   },
   "file_extension": ".py",
   "mimetype": "text/x-python",
   "name": "python",
   "nbconvert_exporter": "python",
   "pygments_lexer": "ipython3",
   "version": "3.11.11"
  }
 },
 "nbformat": 4,
 "nbformat_minor": 5
}
